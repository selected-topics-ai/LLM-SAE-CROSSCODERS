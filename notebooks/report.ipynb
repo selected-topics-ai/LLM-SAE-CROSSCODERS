{
 "cells": [
  {
   "cell_type": "code",
   "id": "initial_id",
   "metadata": {
    "collapsed": true,
    "ExecuteTime": {
     "end_time": "2025-04-23T22:47:55.334263Z",
     "start_time": "2025-04-23T22:47:50.186294Z"
    }
   },
   "source": [
    "import torch\n",
    "import pandas as pd\n",
    "\n",
    "from tqdm import tqdm\n",
    "from sae_lens import SAE\n",
    "from matplotlib import pyplot as plt\n",
    "from transformers import AutoTokenizer, AutoModelForCausalLM\n",
    "\n",
    "%matplotlib inline\n",
    "%config InlineBackend.figure_format='retina'"
   ],
   "outputs": [],
   "execution_count": 4
  },
  {
   "metadata": {
    "ExecuteTime": {
     "end_time": "2025-04-22T20:27:16.341700Z",
     "start_time": "2025-04-22T20:27:16.309790Z"
    }
   },
   "cell_type": "code",
   "source": "notebook_login()",
   "id": "177c9a757c2bb6e0",
   "outputs": [
    {
     "data": {
      "text/plain": [
       "VBox(children=(HTML(value='<center> <img\\nsrc=https://huggingface.co/front/assets/huggingface_logo-noborder.sv…"
      ],
      "application/vnd.jupyter.widget-view+json": {
       "version_major": 2,
       "version_minor": 0,
       "model_id": "98205001d1a44374a3042c514feda190"
      }
     },
     "metadata": {},
     "output_type": "display_data"
    }
   ],
   "execution_count": 10
  },
  {
   "metadata": {},
   "cell_type": "markdown",
   "source": "Привет. Я попытался сделать задание через API нейропедии, но не мог получить ответы от модели поскольку постоянно упирался в лимит токенов. Я поднял диписик на A100 и использовал SAE с нейропедии для стиринга",
   "id": "2bdcddbf0b5ee29e"
  },
  {
   "metadata": {
    "ExecuteTime": {
     "end_time": "2025-04-23T22:47:57.229918Z",
     "start_time": "2025-04-23T22:47:57.223078Z"
    }
   },
   "cell_type": "code",
   "source": "fractions_df = pd.read_json('../fractions/fractions.json')",
   "id": "7829c2c446c6049b",
   "outputs": [],
   "execution_count": 5
  },
  {
   "metadata": {
    "ExecuteTime": {
     "end_time": "2025-04-23T22:48:16.776544Z",
     "start_time": "2025-04-23T22:48:15.868977Z"
    }
   },
   "cell_type": "code",
   "source": [
    "#model = AutoModelForCausalLM.from_pretrained(\"deepseek-ai/DeepSeek-R1-Distill-Llama-8B\")\n",
    "tokenizer = AutoTokenizer.from_pretrained(\"deepseek-ai/DeepSeek-R1-Distill-Llama-8B\")"
   ],
   "id": "c69102ddcb08e045",
   "outputs": [],
   "execution_count": 9
  },
  {
   "metadata": {
    "ExecuteTime": {
     "end_time": "2025-04-23T22:47:59.721836Z",
     "start_time": "2025-04-23T22:47:59.715018Z"
    }
   },
   "cell_type": "code",
   "source": [
    "df = pd.read_json('../fractions/fractions.json')\n",
    "df['questions'] = df['questions'].map(lambda x: (x.replace(\"What is \", \"Solve folowing example. Write  only fraction.\\n\").replace(\"?\", \" = \")))"
   ],
   "id": "6101f4cf3facc466",
   "outputs": [],
   "execution_count": 6
  },
  {
   "metadata": {
    "ExecuteTime": {
     "end_time": "2025-04-23T22:48:01.038355Z",
     "start_time": "2025-04-23T22:48:01.035198Z"
    }
   },
   "cell_type": "code",
   "source": [
    "conversations = []\n",
    "\n",
    "for message in df['questions'].tolist():\n",
    "  conversation = []\n",
    "  conversation.append({\n",
    "        \"role\": \"user\",\n",
    "        \"content\": message\n",
    "  })\n",
    "  conversations.append(conversation)"
   ],
   "id": "a022313e8fdfde61",
   "outputs": [],
   "execution_count": 7
  },
  {
   "metadata": {
    "ExecuteTime": {
     "end_time": "2025-04-23T22:48:18.358766Z",
     "start_time": "2025-04-23T22:48:18.343125Z"
    }
   },
   "cell_type": "code",
   "source": "chat_conv_formatted = tokenizer.apply_chat_template(conversations, tokenize=False, add_generation_prompt=True)",
   "id": "ab478265db7781f0",
   "outputs": [],
   "execution_count": 10
  },
  {
   "metadata": {
    "ExecuteTime": {
     "end_time": "2025-04-23T22:49:36.160177Z",
     "start_time": "2025-04-23T22:49:36.157122Z"
    }
   },
   "cell_type": "code",
   "source": [
    "inputs = tokenizer(chat_conv_formatted,\n",
    "                   return_tensors=\"pt\",\n",
    "                   padding=True,\n",
    "                   padding_side=\"right\",\n",
    "                   add_special_tokens=False)"
   ],
   "id": "ca0f5e29492873d7",
   "outputs": [],
   "execution_count": 16
  },
  {
   "metadata": {
    "ExecuteTime": {
     "end_time": "2025-04-22T21:38:42.102025Z",
     "start_time": "2025-04-22T21:20:54.129982Z"
    }
   },
   "cell_type": "code",
   "source": [
    "sae, cfg_dict, sparsity = SAE.from_pretrained(\n",
    "    release=\"llama_scope_r1_distill\",\n",
    "    sae_id=\"l15r_800m_slimpajama\",\n",
    "    device=\"cuda:0\")\n",
    "\n",
    "\n",
    "def generate_with_sae(model,\n",
    "                      sae: SAE,\n",
    "                      layer: int,\n",
    "                      feature_index: int,\n",
    "                      alpha: float,\n",
    "                      do_sample: bool=True,\n",
    "                      temperature: float=0.6,\n",
    "                      max_len: int=512,\n",
    "                      repetition_penalty:float=1.0,\n",
    "                      normalize_new_hidden=False,\n",
    "                      eos_token_id=128001):\n",
    "\n",
    "    assert alpha >= 0\n",
    "\n",
    "    def gather_act_hook(mod, inputs, outputs):\n",
    "\n",
    "        h = outputs[0]\n",
    "\n",
    "        try:\n",
    "\n",
    "            h = sae.encode(h)\n",
    "            steering = torch.zeros_like(h)\n",
    "            steering[:, :, feature_index] = alpha\n",
    "\n",
    "            if normalize_new_hidden:\n",
    "                h_steer = h + steering\n",
    "                h_steer = (h_steer / h_steer.norm(dim=-1, keepdim=True)) * h.norm(dim=-1, keepdim=True)\n",
    "            else:\n",
    "                h_steer = h + steering\n",
    "        except:\n",
    "            print(\"error\")\n",
    "            h_steer = outputs[0]\n",
    "\n",
    "        h_steer = sae.decode(h_steer)\n",
    "\n",
    "        return (h_steer,)\n",
    "\n",
    "    hook = model.model.layers[layer].register_forward_hook(gather_act_hook)\n",
    "\n",
    "    model = model.to(\"cuda:0\")\n",
    "    model.eval()\n",
    "    with torch.inference_mode():\n",
    "      outputs = model.generate(**inputs,\n",
    "                              max_length=max_len,\n",
    "                              temperature=temperature,\n",
    "                              do_sample=do_sample,\n",
    "                              repetition_penalty=repetition_penalty,\n",
    "                              use_cache=False,\n",
    "                              eos_token_id=eos_token_id)\n",
    "    hook.remove()\n",
    "\n",
    "    return outputs"
   ],
   "id": "395f40dc54a5954",
   "outputs": [
    {
     "name": "stderr",
     "output_type": "stream",
     "text": [
      "The attention mask and the pad token id were not set. As a consequence, you may observe unexpected behavior. Please pass your input's `attention_mask` to obtain reliable results.\n",
      "Setting `pad_token_id` to `eos_token_id`:128001 for open-end generation.\n",
      "The attention mask is not set and cannot be inferred from input because pad token is same as eos token. As a consequence, you may observe unexpected behavior. Please pass your input's `attention_mask` to obtain reliable results.\n",
      "\n",
      "KeyboardInterrupt\n",
      "\n"
     ]
    }
   ],
   "execution_count": 24
  },
  {
   "metadata": {},
   "cell_type": "code",
   "outputs": [],
   "execution_count": null,
   "source": [
    "inputs = inputs.to(\"cuda:0\")\n",
    "steer_strengths = [5, -5, 1, -1, 0, -10, 10]\n",
    "\n",
    "for steer_strength in tqdm(steer_strengths):\n",
    "\n",
    "  encoded_outputs = generate_with_sae(\n",
    "      model=model,\n",
    "      sae=sae,\n",
    "      alpha=steer_strength,\n",
    "      layer=15,\n",
    "      feature_index=30939,\n",
    "  )\n",
    "\n",
    "  decoded_outputs = []\n",
    "  for output in encoded_outputs:\n",
    "    decoded_outputs.append(tokenizer.decode(output, skip_special_tokens=False))\n",
    "\n",
    "  str_steer_strength = str(steer_strength).replace(\"-\", \"minus_\")\n",
    "  df[f'answers_for_steer_{str_steer_strength}'] = decoded_outputs"
   ],
   "id": "490068c51b34fd6f"
  },
  {
   "metadata": {},
   "cell_type": "markdown",
   "source": "",
   "id": "a7c55797157a9510"
  },
  {
   "metadata": {
    "ExecuteTime": {
     "end_time": "2025-04-23T19:33:50.305553Z",
     "start_time": "2025-04-23T19:33:49.897524Z"
    }
   },
   "cell_type": "code",
   "source": [
    "import pandas as pd\n",
    "final_answers_df = pd.read_json('../fractions/gav/all_answers.json')"
   ],
   "id": "b79a6fe2d453a630",
   "outputs": [],
   "execution_count": 2
  },
  {
   "metadata": {
    "ExecuteTime": {
     "end_time": "2025-04-23T19:33:50.759145Z",
     "start_time": "2025-04-23T19:33:50.752414Z"
    }
   },
   "cell_type": "code",
   "source": "final_answers_df['answers_for_steer_0']",
   "id": "c88df606874e7180",
   "outputs": [
    {
     "data": {
      "text/plain": [
       "0     <｜end▁of▁sentence｜><｜end▁of▁sentence｜><｜end▁of...\n",
       "1     <｜end▁of▁sentence｜><｜end▁of▁sentence｜><｜end▁of...\n",
       "2     <｜end▁of▁sentence｜><｜end▁of▁sentence｜><｜end▁of...\n",
       "3     <｜end▁of▁sentence｜><｜end▁of▁sentence｜><｜end▁of...\n",
       "4     <｜end▁of▁sentence｜><｜end▁of▁sentence｜><｜end▁of...\n",
       "5     <｜end▁of▁sentence｜><｜end▁of▁sentence｜><｜end▁of...\n",
       "6     <｜end▁of▁sentence｜><｜end▁of▁sentence｜><｜end▁of...\n",
       "7     <｜end▁of▁sentence｜><｜end▁of▁sentence｜><｜end▁of...\n",
       "8     <｜end▁of▁sentence｜><｜end▁of▁sentence｜><｜end▁of...\n",
       "9     <｜end▁of▁sentence｜><｜end▁of▁sentence｜><｜end▁of...\n",
       "10    <｜end▁of▁sentence｜><｜end▁of▁sentence｜><｜end▁of...\n",
       "11    <｜end▁of▁sentence｜><｜end▁of▁sentence｜><｜end▁of...\n",
       "12    <｜end▁of▁sentence｜><｜end▁of▁sentence｜><｜end▁of...\n",
       "13    <｜end▁of▁sentence｜><｜end▁of▁sentence｜><｜end▁of...\n",
       "14    <｜end▁of▁sentence｜><｜end▁of▁sentence｜><｜end▁of...\n",
       "15    <｜end▁of▁sentence｜><｜end▁of▁sentence｜><｜end▁of...\n",
       "16    <｜end▁of▁sentence｜><｜end▁of▁sentence｜><｜end▁of...\n",
       "17    <｜end▁of▁sentence｜><｜end▁of▁sentence｜><｜end▁of...\n",
       "18    <｜end▁of▁sentence｜><｜end▁of▁sentence｜><｜end▁of...\n",
       "19    <｜begin▁of▁sentence｜><｜begin▁of▁sentence｜><｜Us...\n",
       "Name: answers_for_steer_0, dtype: object"
      ]
     },
     "execution_count": 3,
     "metadata": {},
     "output_type": "execute_result"
    }
   ],
   "execution_count": 3
  },
  {
   "metadata": {},
   "cell_type": "code",
   "outputs": [],
   "execution_count": null,
   "source": "<｜end▁of▁sentence｜><｜end▁of▁sentence｜><｜end▁of▁sentence｜><｜end▁of▁sentence｜><｜end▁of▁sentence｜><｜end▁of▁sentence｜><｜end▁of▁sentence｜><｜end▁of▁sentence｜><｜end▁of▁sentence｜><｜end▁of▁sentence｜><｜end▁of▁sentence｜><｜end▁of▁sentence｜><｜begin▁of▁sentence｜><｜begin▁of▁sentence｜><｜User｜>Solve folowing example\\n1/2 + 1/3 = <｜Assistant｜><think>\\n''''''''''.\\n\\n.\\n\\n.\\n\\n.\\n\\n.\\n\\n.\\n\\n.\\n\\n.\\n\\n.\\n\\n.\\n\\n.\\n\\n.\\n\\n.\\n\\n.\\n\\n.\\n\\n.\\n\\n.\\n\\n.\\n\\n.\\n\\n.\\n\\n.\\n\\n.\\n\\n.\\n\\n.\\n\\n.\\n\\n.\\n\\n.\\n\\n.\\n\\n.\\n\\n.\\n\\n.\\n\\n.\\n\\n.\\n\\n.\\n\\n.\\n\\n.\\n\\n.\\n\\n.\\n\\n.\\n\\n.\\n\\n.\\n\\n.\\n\\n.\\n\\n.\\n\\n.\\n\\n.\\n\\n.\\n\\n.\\n\\n.\\n\\n.\\n\\n.\\n\\n.\\n\\n.\\n\\n.\\n\\n.\\n\\n.\\n\\n.\\n\\n.\\n\\n.\\n\\n.\\n\\n.\\n\\n.\\n\\n.\\n\\n.\\n\\n.\\n\\n.\\n\\n.\\n\\n.\\n\\n.\\n\\n.\\n\\n.\\n\\n.\\n\\n.\\n\\n.\\n\\n.\\n\\n.\\n\\n.\\n\\n.\\n\\n.\\n\\n.\\n\\n.\\n\\n.\\n\\n.\\n\\n.\\n\\n.\\n\\n.\\n\\n.\\n\\n.\\n\\n.\\n\\n.\\n\\n.\\n\\n.\\n\\n.\\n\\n.\\n\\n.\\n\\n.\\n\\n.\\n\\n.\\n\\n.\\n\\n.\\n\\n.\\n\\n.\\n\\n.\\n\\n.\\n\\n.\\n\\n.\\n\\n.\\n\\n.\\n\\n.\\n\\n.\\n\\n.\\n\\n.\\n\\n.\\n\\n.\\n\\n.\\n\\n.\\n\\n.\\n\\n.\\n\\n.\\n\\n.\\n\\n.\\n\\n.\\n\\n.\\n\\n.\\n\\n.\\n\\n.\\n\\n.\\n\\n.\\n\\n.\\n\\n.\\n\\n.\\n\\n.\\n\\n.\\n\\n.\\n\\n.\\n\\n.\\n\\n.\\n\\n.\\n\\n.\\n\\n.\\n\\n.\\n\\n.\\n\\n.\\n\\n.\\n\\n.\\n\\n.\\n\\n.\\n\\n.\\n\\n.\\n\\n.\\n\\n.\\n\\n.\\n\\n.\\n\\n.\\n\\n.\\n\\n.\\n\\n.\\n\\n.\\n\\n.\\n\\n.\\n\\n.\\n\\n.\\n\\n.\\n\\n.\\n\\n.\\n\\n.\\n\\n.\\n\\n.\\n\\n.\\n\\n.\\n\\n.\\n\\n.\\n\\n.\\n\\n.\\n\\n.\\n\\n.\\n\\n.\\n\\n.\\n\\n.\\n\\n.\\n\\n.\\n\\n.\\n\\n.\\n\\n.\\n\\n.\\n\\n.\\n\\n.\\n\\n.\\n\\n.\\n\\n.\\n\\n.\\n\\n.\\n\\n.\\n\\n.\\n\\n.\\n\\n.\\n\\n.\\n\\n.\\n\\n.\\n\\n.\\n\\n.\\n\\n.\\n\\n.\\n\\n.\\n\\n.\\n\\n.\\n\\n.\\n\\n.\\n\\n.\\n\\n.\\n\\n.\\n\\n.\\n\\n.\\n\\n.\\n\\n.\\n\\n.\\n\\n.\\n\\n.\\n\\n.\\n\\n.\\n\\n.\\n\\n.\\n\\n.\\n\\n.\\n\\n.\\n\\n.\\n\\n.\\n\\n.\\n\\n.\\n\\n.\\n\\n.\\n\\n.\\n\\n.\\n\\n.\\n\\n.\\n\\n.\\n\\n.\\n\\n.\\n\\n.\\n\\n.\\n\\n.\\n\\n.\\n\\n.\\n\\n.\\n\\n.\\n\\n.\\n\\n.\\n\\n.\\n\\n.\\n\\n.\\n\\n.\\n\\n.\\n\\n.\\n\\n.\\n\\n.\\n\\n.\\n\\n.\\n\\n.\\n\\n.\\n\\n.\\n\\n.\\n\\n.\\n\\n.\\n\\n.\\n\\n.\\n\\n.\\n\\n.\\n\\n.\\n\\n.\\n\\n.\\n\\n.\\n\\n.\\n\\n.\\n\\n.\\n\\n.\\n\\n.\\n\\n.\\n\\n.\\n\\n.\\n\\n.\\n\\n.\\n\\n.\\n\\n.\\n\\n.\\n\\n.\\n\\n.\\n\\n.\\n\\n.\\n\\n.\\n\\n.\\n\\n.\\n\\n.\\n\\n.\\n\\n.\\n\\n.\\n\\n.\\n\\n.\\n\\n.\\n\\n.\\n\\n.\\n\\n.\\n\\n.\\n\\n.\\n\\n.\\n\\n.\\n\\n.\\n\\n.\\n\\n.\\n\\n.\\n\\n.\\n\\n.\\n\\n.\\n\\n.\\n\\n.\\n\\n.\\n\\n.\\n\\n.\\n\\n.\\n\\n.\\n\\n.\\n\\n.\\n\\n.\\n\\n.\\n\\n.\\n\\n.\\n\\n.\\n\\n.\\n\\n.\\n\\n.\\n\\n.\\n\\n.\\n\\n.\\n\\n.\\n\\n.\\n\\n.\\n\\n.\\n\\n.\\n\\n.\\n\\n.\\n\\n.\\n\\n.\\n\\n.\\n\\n.\\n\\n.\\n\\n.\\n\\n.\\n\\n.\\n\\n.\\n\\n.\\n\\n.\\n\\n.\\n\\n.\\n\\n.\\n\\n.\\n\\n.\\n\\n.\\n\\n.\\n\\n.\\n\\n.\\n\\n.\\n\\n.\\n\\n.\\n\\n.\\n\\n.\\n\\n.\\n\\n.\\n\\n.\\n\\n.\\n\\n.\\n\\n.\\n\\n.\\n\\n.\\n\\n.\\n\\n.\\n\\n.\\n\\n.\\n\\n.\\n\\n.\\n\\n.\\n\\n.\\n\\n.\\n\\n.\\n\\n.\\n\\n.\\n\\n.\\n\\n.\\n\\n.\\n\\n.\\n\\n.\\n\\n.\\n\\n.\\n\\n.\\n\\n.\\n\\n.\\n\\n.\\n\\n.\\n\\n.\\n\\n.\\n\\n.\\n\\n.\\n\\n.\\n\\n.\\n\\n.\\n\\n.\\n\\n.\\n\\n.\\n\\n.\\n\\n.\\n\\n.\\n\\n.\\n\\n.\\n\\n.\\n\\n.\\n\\n.\\n\\n.\\n\\n.\\n\\n.\\n\\n.\\n\\n.\\n\\n.\\n\\n.\\n\\n.\\n\\n.\\n\\n.\\n\\n.\\n\\n.\\n\\n.\\n\\n.\\n\\n.\\n\\n.\\n\\n.\\n\\n.\\n\\n.\\n\\n.\\n\\n.\\n\\n.\\n\\n.\\n\\n.\\n\\n.\\n\\n.\\n\\n.\\n\\n.\\n\\n.\\n\\n.\\n\\n.\\n\\n.\\n\\n.\\n\\n.\\n\\n.\\n\\n.\\n\\n.\\n\\n.\\n\\n.\\n\\n.\\n\\n.\\n\\n.\\n\\n.\\n\\n.\\n\\n.\\n\\n.\\n\\n.\\n\\n.\\n\\n.\\n\\n.\\n\\n.\\n\\n.\\n\\n.\\n\\n.\\n\\n",
   "id": "5cf615e04331852a"
  },
  {
   "metadata": {
    "ExecuteTime": {
     "end_time": "2025-04-23T16:08:55.772498Z",
     "start_time": "2025-04-23T16:08:55.768370Z"
    }
   },
   "cell_type": "code",
   "source": "<｜end▁of▁sentence｜><｜end▁of▁sentence｜><｜end▁of▁sentence｜><｜end▁of▁sentence｜><｜end▁of▁sentence｜><｜end▁of▁sentence｜><｜end▁of▁sentence｜><｜end▁of▁sentence｜><｜end▁of▁sentence｜><｜end▁of▁sentence｜><｜end▁of▁sentence｜><｜end▁of▁sentence｜><｜begin▁of▁sentence｜><｜begin▁of▁sentence｜><｜User｜>Solve folowing example\\n1/2 + 1/3 = <｜Assistant｜><think>\\n'''''' ' ' ' ' ' ' ' ' ' ' ' ' ' ' ' ' ' ' ' '' '' ' '' ' '' '' '' '' '' '' '' '' '' '' '' '' '' '' '' '' '' '' '' '' '' '' '' '' '' '' ''' '''\\n\\n''\\n\\n'\\n\\n'\\n\\n'\\n\\n\\n\\n\\n\\n||||||||||||||||||||||||||||||||||||||||||||||||||||||||||||||||||||||||||||||||||||||||||||||||||||||||||||||||||||||||||||||||||||||||| |||||| || ||| ||| |||| || || || || |||| || | || || || || || | || || ||| || ||| ||| || || || || || || || || || || || || || | | | | | | | | | | | | | | | | | | | | | | | || || || || | || || || || || || || || || || ||| || || || || || || || || || || || ||| ||| || || || || || || || ||| || || ||| || || || || || || || || || ||| ||| || || || || || ||| || || ||| || || || |",
   "id": "d7d60fbb1c31596b",
   "outputs": [
    {
     "ename": "SyntaxError",
     "evalue": "invalid character '｜' (U+FF5C) (2498416250.py, line 1)",
     "output_type": "error",
     "traceback": [
      "  \u001B[36mCell\u001B[39m\u001B[36m \u001B[39m\u001B[32mIn[5]\u001B[39m\u001B[32m, line 1\u001B[39m\n\u001B[31m    \u001B[39m\u001B[31m<｜end▁of▁sentence｜><｜end▁of▁sentence｜><｜end▁of▁sentence｜><｜end▁of▁sentence｜><｜end▁of▁sentence｜><｜end▁of▁sentence｜><｜end▁of▁sentence｜><｜end▁of▁sentence｜><｜end▁of▁sentence｜><｜end▁of▁sentence｜><｜end▁of▁sentence｜><｜end▁of▁sentence｜><｜begin▁of▁sentence｜><｜begin▁of▁sentence｜><｜User｜>Solve folowing example\\n1/2 + 1/3 = <｜Assistant｜><think>\\n'''''' ' ' ' ' ' ' ' ' ' ' ' ' ' ' ' ' ' ' ' '' '' ' '' ' '' '' '' '' '' '' '' '' '' '' '' '' '' '' '' '' '' '' '' '' '' '' '' '' '' '' ''' '''\\n\\n''\\n\\n'\\n\\n'\\n\\n'\\n\\n\\n\\n\\n\\n||||||||||||||||||||||||||||||||||||||||||||||||||||||||||||||||||||||||||||||||||||||||||||||||||||||||||||||||||||||||||||||||||||||||| |||||| || ||| ||| |||| || || || || |||| || | || || || || || | || || ||| || ||| ||| || || || || || || || || || || || || || | | | | | | | | | | | | | | | | | | | | | | | || || || || | || || || || || || || || || || ||| || || || || || || || || || || || ||| ||| || || || || || || || ||| || || ||| || || || || || || || || || ||| ||| || || || || || ||| || || ||| || || || |\u001B[39m\n     ^\n\u001B[31mSyntaxError\u001B[39m\u001B[31m:\u001B[39m invalid character '｜' (U+FF5C)\n"
     ]
    }
   ],
   "execution_count": 5
  },
  {
   "metadata": {},
   "cell_type": "code",
   "outputs": [],
   "execution_count": null,
   "source": "",
   "id": "cac483d63582583b"
  }
 ],
 "metadata": {
  "kernelspec": {
   "display_name": "Python 3",
   "language": "python",
   "name": "python3"
  },
  "language_info": {
   "codemirror_mode": {
    "name": "ipython",
    "version": 2
   },
   "file_extension": ".py",
   "mimetype": "text/x-python",
   "name": "python",
   "nbconvert_exporter": "python",
   "pygments_lexer": "ipython2",
   "version": "2.7.6"
  }
 },
 "nbformat": 4,
 "nbformat_minor": 5
}
